{
 "cells": [
  {
   "cell_type": "code",
   "execution_count": 1,
   "id": "eb27e6a0-7a75-4005-84ee-441a57486710",
   "metadata": {},
   "outputs": [
    {
     "data": {
      "application/vnd.jupyter.widget-view+json": {
       "model_id": "9963f2acdde3490d9ccb273397d9333e",
       "version_major": 2,
       "version_minor": 0
      },
      "text/plain": [
       "Downloading:   0%|          | 0.00/295 [00:00<?, ?B/s]"
      ]
     },
     "metadata": {},
     "output_type": "display_data"
    },
    {
     "data": {
      "application/vnd.jupyter.widget-view+json": {
       "model_id": "b95328b252924d3eb5642abe2a4fbe6b",
       "version_major": 2,
       "version_minor": 0
      },
      "text/plain": [
       "Downloading:   0%|          | 0.00/109 [00:00<?, ?B/s]"
      ]
     },
     "metadata": {},
     "output_type": "display_data"
    },
    {
     "data": {
      "application/vnd.jupyter.widget-view+json": {
       "model_id": "31cf13c5f0f141fe8c37bd5db86db036",
       "version_major": 2,
       "version_minor": 0
      },
      "text/plain": [
       "Downloading:   0%|          | 0.00/666k [00:00<?, ?B/s]"
      ]
     },
     "metadata": {},
     "output_type": "display_data"
    },
    {
     "data": {
      "application/vnd.jupyter.widget-view+json": {
       "model_id": "2ec82ee6bd404d559c117e823c56be06",
       "version_major": 2,
       "version_minor": 0
      },
      "text/plain": [
       "Downloading:   0%|          | 0.00/1.17k [00:00<?, ?B/s]"
      ]
     },
     "metadata": {},
     "output_type": "display_data"
    },
    {
     "data": {
      "application/vnd.jupyter.widget-view+json": {
       "model_id": "a1db6e74d5d84c64925bb945022ce542",
       "version_major": 2,
       "version_minor": 0
      },
      "text/plain": [
       "Downloading:   0%|          | 0.00/473M [00:00<?, ?B/s]"
      ]
     },
     "metadata": {},
     "output_type": "display_data"
    }
   ],
   "source": [
    "import torch\n",
    "from transformers import PreTrainedTokenizerFast\n",
    "from transformers import BartForConditionalGeneration\n",
    "\n",
    "tokenizer = PreTrainedTokenizerFast.from_pretrained('digit82/kobart-summarization')\n",
    "model = BartForConditionalGeneration.from_pretrained('digit82/kobart-summarization')"
   ]
  },
  {
   "cell_type": "markdown",
   "id": "d13f1b78-4d69-41d5-8e3c-d3711e139aa8",
   "metadata": {},
   "source": [
    "### 멘토님께 질문\n",
    "- pre-trained된 모델을 사용해서 해봤는데 혹시 도움 주실 수 있으실까요\n",
    "- 여기에 라벨링된 데이터를 추가해서 학습해 보는 방법?"
   ]
  },
  {
   "cell_type": "code",
   "execution_count": 5,
   "id": "2c09f4de-6207-4286-bf5a-bf75abd4bc09",
   "metadata": {},
   "outputs": [
    {
     "data": {
      "text/plain": [
       "\"전 세계가 우크라이나를 침공(侵攻)한 러시아에 각종 제재를 가하고 있는 가운데, '월드 캣 쇼'에 러시아 고양이 참가를 금지하겠다고 밝혔다.\""
      ]
     },
     "execution_count": 5,
     "metadata": {},
     "output_type": "execute_result"
    }
   ],
   "source": [
    "text = \"\"\"\n",
    "전 세계가 우크라이나를 침공(侵攻)한 러시아에 각종 제재를 가하고 있다. \n",
    "이에 러시아 고양이도 '국제 대회'에 출전하지 못한다는 소식이 전해졌다. \n",
    "지난 3일(현지 시각), 영국 일간(日刊) 데일리메일에 따르면 70여 년 역(歷史)를 가 국제고양이연맹(FIFE)이 최근 성명을 통해 '월드 캣 쇼'에 러시아(社) 소속 고양이 참가를 금지하겠다고 밝혔다. \n",
    "고양이연맹은 '예쁜 고양이 대회'를 비롯해 매년 700여 개의 고양이 관련 대회를 주최해왔다. \n",
    "연맹 측은 \"오는 5월 말까지 러시아산(産) 고양이의 수입을 금지하고, 러시아에서 태어난 고양이의 혈통서 등록도 허용하지 않겠다\"며 \"우크라이나를 향한 러시아의 잔혹한 행위에 대해 더 이상 침묵할 수 없었다\"고 밝혔다. \n",
    "이어 \"우크라이나 난민(難民)과 피란 중인 반려동물을 위한 기금도 마련할 것\"이라고 덧붙였다. → \n",
    "러시아 고양이의 '국제 대회 출전 금지령(令)'에 대해 어떻게 생각하나요?\n",
    "\"\"\"\n",
    "text = text.replace('\\n', ' ')\n",
    "\n",
    "raw_input_ids = tokenizer.encode(text)\n",
    "input_ids = [tokenizer.bos_token_id] + raw_input_ids + [tokenizer.eos_token_id]\n",
    "\n",
    "summary_ids = model.generate(torch.tensor([input_ids]),  num_beams=4,  max_length=512,  eos_token_id=1)\n",
    "tokenizer.decode(summary_ids.squeeze().tolist(), skip_special_tokens=True)"
   ]
  },
  {
   "cell_type": "code",
   "execution_count": null,
   "id": "fb9cb63f-0f94-4069-a126-258bfef2d8b2",
   "metadata": {},
   "outputs": [],
   "source": [
    "# colab에서 1분마다 자동 재연결\n",
    "function ClickConnect() { \n",
    "    // 백엔드를 할당하지 못했습니다. \n",
    "    // GPU이(가) 있는 백엔드를 사용할 수 없습니다. 가속기가 없는 런타임을 사용하시겠습니까? \n",
    "    // 취소 버튼을 찾아서 클릭  \n",
    "    var buttons = document.querySelectorAll(\"colab-dialog.yes-no-dialog paper-button#cancel\"); \n",
    "    buttons.forEach(function(btn) { btn.click(); }); \n",
    "    console.log(\"1분마다 자동 재연결\"); \n",
    "    document.querySelector(\"colab-toolbar-button#connect\").click(); \n",
    "} \n",
    "setInterval(ClickConnect,1000*60); "
   ]
  }
 ],
 "metadata": {
  "kernelspec": {
   "display_name": "imok",
   "language": "python",
   "name": "imok"
  },
  "language_info": {
   "codemirror_mode": {
    "name": "ipython",
    "version": 3
   },
   "file_extension": ".py",
   "mimetype": "text/x-python",
   "name": "python",
   "nbconvert_exporter": "python",
   "pygments_lexer": "ipython3",
   "version": "3.9.10"
  }
 },
 "nbformat": 4,
 "nbformat_minor": 5
}
